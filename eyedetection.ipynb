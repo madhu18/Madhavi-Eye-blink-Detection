{
 "cells": [
  {
   "cell_type": "code",
   "execution_count": 1,
   "metadata": {
    "collapsed": true
   },
   "outputs": [],
   "source": [
    "import cv2\n",
    "import dlib\n",
    "import numpy as np\n",
    "from scipy.spatial import distance as dist"
   ]
  },
  {
   "cell_type": "code",
   "execution_count": 2,
   "metadata": {
    "collapsed": true
   },
   "outputs": [],
   "source": [
    "JAWLINE_POINTS = list(range(0, 17))  \n",
    "RIGHT_EYEBROW_POINTS = list(range(17, 22))  \n",
    "LEFT_EYEBROW_POINTS = list(range(22, 27))  \n",
    "NOSE_POINTS = list(range(27, 36))  \n",
    "RIGHT_EYE_POINTS = list(range(36, 42))  \n",
    "LEFT_EYE_POINTS = list(range(42, 48))  \n",
    "MOUTH_OUTLINE_POINTS = list(range(48, 61))  \n",
    "MOUTH_INNER_POINTS = list(range(61, 68))"
   ]
  },
  {
   "cell_type": "code",
   "execution_count": null,
   "metadata": {
    "collapsed": true
   },
   "outputs": [],
   "source": []
  },
  {
   "cell_type": "code",
   "execution_count": 3,
   "metadata": {
    "collapsed": true
   },
   "outputs": [],
   "source": [
    "def eye_aspect_ratio(eye):\n",
    "\t# compute the euclidean distances between the two sets of\n",
    "\t# vertical eye landmarks (x, y)-coordinates\n",
    "\tA = dist.euclidean(eye[1], eye[5])\n",
    "\tB = dist.euclidean(eye[2], eye[4])\n",
    " \n",
    "\t# compute the euclidean distance between the horizontal\n",
    "\t# eye landmark (x, y)-coordinates\n",
    "\tC = dist.euclidean(eye[0], eye[3])\n",
    " \n",
    "\t# compute the eye aspect ratio\n",
    "\tear = (A + B) / (2.0 * C)\n",
    " \n",
    "\t# return the eye aspect ratio\n",
    "\treturn ear"
   ]
  },
  {
   "cell_type": "code",
   "execution_count": null,
   "metadata": {
    "collapsed": true
   },
   "outputs": [],
   "source": [
    "# define two constants, one for the eye aspect ratio to indicate\n",
    "# blink and then a second constant for the number of consecutive\n",
    "# frames the eye must be below the threshold for to set off the\n",
    "# alarm\n",
    "EYE_AR_THRESH = 0.26\n",
    "EYE_AR_CONSEC_FRAMES = 10\n",
    " \n",
    "# initialize the frame counter as well as a boolean used to\n",
    "# indicate if the alarm is going off\n",
    "COUNTER = 0\n",
    "\n",
    "TOTAL = 0\n",
    "ALARM_ON = False"
   ]
  },
  {
   "cell_type": "code",
   "execution_count": null,
   "metadata": {
    "collapsed": true
   },
   "outputs": [],
   "source": []
  },
  {
   "cell_type": "code",
   "execution_count": null,
   "metadata": {
    "collapsed": true
   },
   "outputs": [],
   "source": []
  },
  {
   "cell_type": "code",
   "execution_count": null,
   "metadata": {
    "collapsed": true
   },
   "outputs": [],
   "source": [
    "face_cascade = cv2.CascadeClassifier('haarcascade_frontalface_default.xml')\n",
    "eye_cascade = cv2.CascadeClassifier('haarcascade_eye.xml')\n",
    "\n",
    "#Set up some required objects\n",
    "video_capture = cv2.VideoCapture(0) #Webcam object\n",
    "detector = dlib.get_frontal_face_detector() #Face detector\n",
    "predictor = dlib.shape_predictor(\"shape_predictor_68_face_landmarks.dat\") #Landmark identifier. Set the filename to whatever you named the downloaded file\n",
    "\n",
    "while True:\n",
    "\tret, frame = video_capture.read(0)\n",
    "\tgray = cv2.cvtColor(frame, cv2.COLOR_BGR2GRAY)\n",
    "\tfaces = face_cascade.detectMultiScale(gray, 1.1, 5)\n",
    "\tfor (x, y, w, h) in faces:  \n",
    "\t\tcv2.rectangle(frame, (x, y), (x + w, y + w), (0,0, 255), 1) \n",
    "\t\troi_gray = gray[y:y+h, x:x+w]\n",
    "\t\troi_color = frame[y:y+h, x:x+w]\n",
    "   \n",
    "        \n",
    "\t\t# Converting the OpenCV rectangle coordinates to Dlib rectangle  \n",
    "\t\tdlib_rect = dlib.rectangle(int(x), int(y), int(x + w), int(y + h))  \n",
    "          #display the face landmarks \n",
    "\t\tlandmarks = np.matrix([[p.x, p.y] \n",
    "\t\t\t\tfor p in predictor(frame, dlib_rect).parts()])  \n",
    "\t\trightEye= landmarks[RIGHT_EYE_POINTS]\n",
    "\t\tleftEye= landmarks[LEFT_EYE_POINTS]\n",
    "\t\tlandmarks_display = landmarks[RIGHT_EYE_POINTS + LEFT_EYE_POINTS+MOUTH_OUTLINE_POINTS+JAWLINE_POINTS+RIGHT_EYEBROW_POINTS+LEFT_EYEBROW_POINTS+ NOSE_POINTS]\n",
    "\t\trightEAR = eye_aspect_ratio(rightEye)\n",
    "\t\tleftEAR = eye_aspect_ratio(leftEye)\n",
    "\n",
    "\t\t# average the eye aspect ratio together for both eyes\n",
    "\t\tear = (leftEAR + rightEAR) / 2.0\n",
    "      \n",
    "\t\t#for idx, point in enumerate(landmarks_display):  \n",
    "\t\t\t#pos = (point[0, 0], point[0, 1])  \n",
    "\t\t\t#cv2.circle(frame, pos, 2, color=(0, 255, 255), thickness=-1)\n",
    "\t\t#cv2.imshow(\"image\", frame) #Display the frame\n",
    "        # check to see if the eye aspect ratio is below the blink\n",
    "\t\t# threshold, and if so, increment the blink frame counter\n",
    "\t\tif ear < EYE_AR_THRESH:\n",
    "\t\t\tCOUNTER += 1\n",
    " \n",
    "\t\t# otherwise, the eye aspect ratio is not below the blink\n",
    "\t\t# threshold\n",
    "\t\telse:\n",
    "\t\t\t# if the eyes were closed for a sufficient number of\n",
    "\t\t\t# then increment the total number of blinks\n",
    "\t\t\tif COUNTER >= EYE_AR_CONSEC_FRAMES:\n",
    "\t\t\t\tTOTAL += 1\n",
    " \n",
    "\t\t\t# reset the eye frame counter\n",
    "\t\t\tCOUNTER = 0\n",
    "\t\t#draw the total number of blinks on the frame along with\n",
    "\t\t# the computed eye aspect ratio for the frame\n",
    "\t\tcv2.putText(frame, \"BlinksCount: {}\".format(TOTAL), (10, 30),\n",
    "\t\t\tcv2.FONT_HERSHEY_SIMPLEX, 0.7, (0, 0, 255), 2)\n",
    "\t\tcv2.putText(frame, \"EARRatio: {:.2f}\".format(ear), (300, 30),\n",
    "\t\t\tcv2.FONT_HERSHEY_SIMPLEX, 0.7, (0, 0, 255), 2)\n",
    " \n",
    "\t# show the frame\n",
    "\t\tfor idx, point in enumerate(landmarks_display):  \n",
    "\t\t\tpos = (point[0, 0], point[0, 1])  \n",
    "\t\t\tcv2.circle(frame, pos, 2, color=(0, 255, 255), thickness=-1)\n",
    "\t\tcv2.imshow(\"Frame\", frame)\n",
    "\t\tkey = cv2.waitKey(1) & 0xFF\n",
    " \n",
    "\t# if the `q` key was pressed, break from the loop\n",
    "\t\tif key == ord(\"q\"):\n",
    "\t\t\tbreak\n",
    "\n",
    "# do a bit of cleanup\n",
    "video_capture.release()\n",
    "cv2.destroyAllWindows()\n",
    "video_capture .stop()            "
   ]
  },
  {
   "cell_type": "code",
   "execution_count": null,
   "metadata": {
    "collapsed": true
   },
   "outputs": [],
   "source": []
  },
  {
   "cell_type": "code",
   "execution_count": null,
   "metadata": {
    "collapsed": true
   },
   "outputs": [],
   "source": []
  }
 ],
 "metadata": {
  "kernelspec": {
   "display_name": "Python 3",
   "language": "python",
   "name": "python3"
  },
  "language_info": {
   "codemirror_mode": {
    "name": "ipython",
    "version": 3
   },
   "file_extension": ".py",
   "mimetype": "text/x-python",
   "name": "python",
   "nbconvert_exporter": "python",
   "pygments_lexer": "ipython3",
   "version": "3.6.1"
  }
 },
 "nbformat": 4,
 "nbformat_minor": 2
}
