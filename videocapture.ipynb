{
 "cells": [
  {
   "cell_type": "code",
   "execution_count": null,
   "metadata": {
    "collapsed": true
   },
   "outputs": [],
   "source": [
    "import numpy as np\n",
    "import cv2\n",
    "\n",
    "face_cascade = cv2.CascadeClassifier('haarcascade_frontalface_default.xml')\n",
    "eye_cascade = cv2.CascadeClassifier('haarcascade_eye.xml')\n",
    "\n",
    "cap = cv2.VideoCapture(0)\n",
    "\n",
    "while (True):\n",
    "\n",
    "\tret, frame = cap.read()\n",
    "\tgray = cv2.equalizeHist(cv2.cvtColor(frame, cv2.COLOR_BGR2GRAY))\n",
    "\tfaces = face_cascade.detectMultiScale(gray, 1.1, 5)\n",
    "\n",
    "\tfor (x,y,w,h) in faces:\n",
    "\t\tcv2.rectangle(frame,(x,y), (x+w,y+w), (0,0,255),1)\n",
    "\t\troi_gray = gray[y:y+h, x:x+w]\n",
    "\t\troi_color = frame[y:y+h, x:x+w]\n",
    "\t\teyes = eye_cascade.detectMultiScale(roi_gray)\n",
    "\t\tfor (ex,ey,ew,eh) in eyes:\n",
    "\t\t\tcv2.rectangle(roi_color, (ex,ey), (ex+ew, ey+eh), (0,255,0),1)\n",
    "\t\t\t\n",
    "\tcv2.imshow('frame', cv2.flip(frame,3))\n",
    "\tif cv2.waitKey(1) & 0xFF == ord('q'):\n",
    "\t\tbreak\n",
    "cap.release()\n",
    "cv2.destroyAllWindows()"
   ]
  }
 ],
 "metadata": {
  "anaconda-cloud": {},
  "kernelspec": {
   "display_name": "Python 3",
   "language": "python",
   "name": "python3"
  },
  "language_info": {
   "codemirror_mode": {
    "name": "ipython",
    "version": 3
   },
   "file_extension": ".py",
   "mimetype": "text/x-python",
   "name": "python",
   "nbconvert_exporter": "python",
   "pygments_lexer": "ipython3",
   "version": "3.6.1"
  }
 },
 "nbformat": 4,
 "nbformat_minor": 1
}
